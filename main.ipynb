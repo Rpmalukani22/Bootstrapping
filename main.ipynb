{
 "cells": [
  {
   "cell_type": "markdown",
   "metadata": {},
   "source": [
    "# Empirical bootstrap based confidence interval"
   ]
  },
  {
   "cell_type": "code",
   "execution_count": 42,
   "metadata": {},
   "outputs": [],
   "source": [
    "#importing modules\n",
    "import numpy as np\n",
    "from sklearn.utils import resample\n",
    "import matplotlib.pyplot as plt"
   ]
  },
  {
   "cell_type": "code",
   "execution_count": 43,
   "metadata": {},
   "outputs": [],
   "source": [
    "#A sample from heights data\n",
    "s=np.array([180,162,158,172,168,150,171,183,165,176])\n",
    "# print(s)"
   ]
  },
  {
   "cell_type": "code",
   "execution_count": 44,
   "metadata": {
    "scrolled": true
   },
   "outputs": [
    {
     "name": "stdout",
     "output_type": "stream",
     "text": [
      "[161.5, 168.5, 171.5, 171.5, 171.0, 166.5, 165.0, 165.0, 174.0, 168.0, 166.5, 171.5, 174.0, 168.5, 170.0, 163.5, 166.5, 172.0, 171.0, 165.0, 165.0, 166.5, 168.0, 170.0, 165.0, 174.0, 171.0, 170.0, 169.5, 174.0, 168.0, 168.5, 172.0, 162.0, 165.0, 168.0, 178.0, 178.0, 171.0, 168.0, 166.5, 169.5, 168.0, 172.0, 162.0, 163.5, 168.0, 165.0, 176.0, 166.5, 166.5, 171.0, 163.5, 166.5, 166.5, 171.0, 174.0, 168.0, 171.0, 168.0, 174.0, 172.0, 163.5, 166.5, 165.0, 169.5, 168.5, 172.0, 170.0, 168.0, 174.0, 169.5, 158.0, 165.0, 174.0, 166.5, 169.5, 171.5, 178.0, 166.5, 171.5, 168.0, 168.0, 170.0, 169.5, 165.0, 168.0, 165.0, 165.0, 162.0, 171.0, 172.0, 172.0, 172.0, 166.5, 163.5, 166.5, 168.0, 171.5, 168.0, 165.0, 172.0, 168.5, 171.0, 169.5, 171.0, 169.5, 168.0, 165.0, 171.5, 172.0, 169.5, 172.0, 171.5, 168.0, 163.5, 171.0, 171.5, 165.0, 165.0, 174.0, 174.0, 169.5, 171.5, 171.5, 173.5, 170.5, 171.5, 168.0, 174.0, 166.5, 171.0, 160.0, 171.0, 170.0, 171.5, 166.5, 167.0, 162.0, 172.0, 174.0, 163.5, 169.5, 166.5, 166.5, 172.0, 166.5, 178.0, 171.5, 168.0, 168.0, 169.5, 174.0, 165.0, 165.0, 168.0, 173.5, 171.5, 168.0, 172.0, 174.0, 170.0, 165.0, 163.5, 165.0, 172.0, 160.0, 165.0, 171.0, 171.5, 171.5, 178.0, 171.0, 176.0, 171.0, 169.5, 180.0, 171.0, 178.0, 162.0, 171.0, 168.0, 166.5, 176.0, 165.0, 168.0, 174.0, 169.5, 171.0, 169.5, 163.0, 172.0, 171.5, 169.5, 168.0, 172.0, 162.0, 163.0, 171.0, 169.5, 169.5, 165.0, 168.0, 171.0, 180.0, 174.0, 170.0, 171.5, 162.0, 176.0, 174.0, 171.5, 169.5, 171.0, 168.0, 169.5, 170.5, 171.0, 171.0, 169.5, 169.5, 171.0, 168.0, 171.0, 176.0, 166.5, 168.0, 178.0, 166.5, 165.0, 171.5, 168.5, 166.5, 169.5, 174.0, 168.0, 162.0, 176.0, 171.5, 176.0, 171.0, 170.0, 168.0, 172.0, 171.5, 173.5, 174.0, 166.5, 169.5, 163.5, 178.0, 169.5, 160.0, 172.0, 168.0, 171.0, 169.5, 171.0, 173.5, 166.5, 171.5, 171.0, 169.0, 168.0, 171.5, 166.5, 168.0, 168.0, 178.0, 170.0, 171.0, 169.5, 176.0, 166.5, 168.0, 165.0, 163.5, 171.5, 167.0, 168.5, 166.5, 161.5, 168.0, 166.5, 172.0, 169.5, 168.0, 171.0, 171.5, 168.0, 168.0, 176.0, 171.5, 166.5, 165.0, 166.5, 169.5, 168.0, 165.0, 171.5, 168.5, 172.0, 166.5, 168.0, 166.5, 166.5, 165.0, 158.0, 172.0, 166.5, 165.0, 165.0, 166.5, 170.0, 172.0, 171.0, 161.5, 171.5, 171.5, 169.5, 169.5, 162.0, 171.5, 171.5, 172.0, 165.0, 166.5, 169.5, 169.5, 171.5, 163.5, 163.5, 169.5, 171.0, 165.0, 165.0, 162.0, 176.0, 171.5, 165.0, 162.0, 170.0, 170.0, 173.5, 171.5, 163.5, 171.0, 169.5, 165.0, 172.0, 166.5, 171.5, 174.0, 163.5, 173.5, 168.0, 172.0, 170.0, 174.0, 158.0, 163.5, 169.5, 169.5, 169.5, 171.0, 168.5, 169.5, 181.5, 168.0, 168.0, 169.5, 172.0, 163.5, 166.5, 165.0, 171.0, 169.5, 176.0, 174.0, 166.5, 171.0, 171.5, 174.0, 165.0, 169.5, 172.0, 174.0, 174.0, 172.0, 171.5, 172.0, 171.5, 173.5, 168.0, 174.0, 169.5, 172.0, 162.0, 169.5, 162.0, 167.0, 171.5, 171.5, 160.0, 176.0, 171.0, 174.0, 174.0, 165.0, 169.5, 173.5, 168.0, 162.0, 165.0, 163.5, 162.0, 171.5, 170.5, 166.5, 166.5, 168.0, 168.0, 171.0, 168.0, 169.5, 172.0, 165.0, 162.0, 174.0, 170.0, 172.0, 161.5, 169.5, 163.5, 172.0, 162.0, 166.5, 173.5, 176.0, 165.0, 162.0, 166.5, 170.0, 168.0, 169.5, 173.5, 168.0, 165.0, 166.5, 169.5, 165.0, 173.5, 162.0, 171.5, 169.5, 171.5, 168.0, 169.5, 171.5, 168.0, 168.5, 171.0, 163.5, 170.0, 174.0, 168.0, 168.0, 171.5, 162.0, 169.5, 165.0, 171.5, 166.5, 166.5, 169.5, 174.0, 171.0, 170.0, 165.0, 172.0, 174.0, 171.5, 165.0, 166.5, 170.0, 168.0, 160.0, 171.5, 166.5, 169.5, 163.5, 166.5, 171.5, 170.0, 166.5, 172.0, 171.5, 165.0, 168.5, 169.5, 172.0, 169.5, 169.5, 168.0, 168.0, 166.5, 166.5, 166.5, 169.5, 172.0, 160.0, 169.5, 163.0, 171.5, 174.0, 171.5, 168.0, 168.0, 166.5, 166.5, 161.5, 168.0, 171.5, 166.5, 165.0, 171.0, 168.5, 162.0, 168.0, 166.5, 168.0, 165.0, 171.0, 165.0, 172.0, 172.0, 169.5, 166.5, 169.5, 165.0, 176.0, 171.0, 169.5, 166.5, 173.5, 171.0, 168.0, 172.0, 174.0, 172.0, 171.5, 161.5, 162.0, 172.0, 178.0, 169.5, 171.5, 174.0, 171.0, 165.0, 174.0, 169.5, 169.5, 163.5, 174.0, 178.0, 169.5, 176.0, 171.0, 165.0, 171.5, 163.5, 166.5, 169.5, 166.5, 163.5, 163.5, 161.5, 168.0, 168.5, 176.0, 171.0, 168.0, 162.0, 163.5, 168.0, 168.0, 162.0, 166.5, 168.0, 171.5, 171.5, 168.0, 162.0, 168.0, 165.0, 168.0, 172.0, 168.0, 172.0, 165.0, 167.0, 170.0, 158.0, 169.5, 165.0, 171.5, 165.0, 166.5, 166.5, 171.5, 172.0, 176.0, 170.0, 174.0, 168.0, 163.5, 165.0, 168.5, 168.5, 176.0, 171.0, 162.0, 169.5, 168.0, 176.0, 171.0, 168.0, 171.0, 171.5, 169.5, 163.5, 171.0, 171.5, 173.5, 168.0, 169.5, 168.0, 166.5, 160.0, 169.5, 176.0, 172.0, 169.5, 166.5, 171.5, 166.5, 169.5, 166.5, 168.0, 170.5, 171.0, 172.0, 163.5, 168.5, 165.0, 166.5, 171.5, 174.0, 168.0, 171.5, 162.0, 171.0, 160.0, 172.0, 166.5, 168.0, 172.0, 171.0, 176.0, 174.0, 171.0, 165.0, 171.0, 166.5, 169.5, 165.0, 168.0, 171.0, 168.0, 171.5, 168.5, 171.0, 165.0, 166.5, 169.5, 169.5, 163.5, 171.0, 176.0, 176.0, 171.5, 163.5, 171.0, 165.0, 165.0, 171.0, 168.0, 174.0, 171.5, 166.5, 168.0, 168.0, 171.5, 168.0, 174.0, 169.5, 168.0, 172.0, 171.0, 166.5, 168.0, 170.0, 176.0, 171.5, 169.5, 171.0, 171.5, 169.5, 163.5, 168.0, 166.5, 172.0, 168.0, 171.5, 166.5, 170.5, 166.5, 169.5, 163.5, 165.0, 162.0, 170.0, 166.5, 168.0, 166.5, 163.5, 171.0, 169.5, 166.5, 165.0, 172.0, 163.5, 170.0, 171.5, 172.0, 163.5, 169.5, 178.0, 172.0, 171.5, 170.0, 166.5, 168.0, 181.5, 172.0, 166.5, 172.0, 169.5, 171.5, 169.5, 170.0, 170.0, 171.0, 169.5, 168.0, 163.5, 161.5, 166.5, 169.5, 166.5, 165.0, 173.5, 166.5, 168.0, 172.0, 169.5, 171.0, 171.5, 172.0, 165.0, 166.5, 163.5, 169.5, 165.0, 171.5, 168.0, 172.0, 171.0, 165.0, 170.0, 170.0, 168.0, 172.0, 172.0, 171.0, 168.0, 171.0, 166.5, 168.0, 168.0, 162.0, 166.5, 166.5, 172.0, 169.5, 162.0, 160.0, 171.5, 173.5, 168.5, 167.0, 169.5, 172.0, 171.5, 174.0, 170.0, 170.0, 165.0, 176.0, 169.5, 167.0, 169.5, 171.0, 178.0, 165.0, 171.5, 166.5, 170.0, 168.0, 171.0, 172.0, 171.0, 165.0, 162.0, 165.0, 166.5, 165.0, 160.0, 171.5, 165.0, 172.0, 168.5, 171.5, 171.0, 174.0, 162.0, 170.5, 171.0, 160.0, 172.0, 166.5, 172.0, 171.5, 171.5, 171.0, 163.0, 166.5, 172.0, 168.0, 169.5, 170.0, 171.0, 166.5, 174.0, 171.0, 162.0, 169.5, 168.0, 168.0, 166.5, 169.5, 174.0, 174.0, 162.0, 169.5, 172.0, 166.5, 160.0, 168.0, 176.0, 168.0, 178.0, 166.5, 169.5, 165.0, 171.5, 172.0, 170.0, 168.0, 168.0, 166.5, 169.5, 162.0, 166.5, 174.0, 160.0, 168.0, 165.0, 171.0, 171.0, 172.0, 169.5, 166.5, 172.0, 170.0, 169.5, 171.5, 172.0, 168.0, 169.5, 169.5, 172.0, 176.0, 173.5, 162.0, 166.5, 171.0, 170.0, 170.0, 169.5, 171.5, 171.5, 173.5, 174.0, 176.0, 173.5, 168.0, 172.0, 166.5, 169.5, 168.0, 172.0, 166.5, 160.0, 169.5, 169.5, 174.0, 169.5, 169.5, 163.5, 171.0, 174.0, 165.0, 169.5, 171.0, 165.0, 166.5, 168.0, 171.0, 165.0, 172.0, 169.5, 172.0, 166.5, 163.5, 165.0, 168.0, 178.0, 171.5, 170.0, 170.0, 169.5, 165.0, 171.0, 176.0, 174.0, 165.0, 163.5, 165.0, 171.0, 163.5, 171.5, 168.0, 174.0, 168.0, 172.0, 171.5, 171.5, 171.0, 172.0, 168.5, 168.0, 166.5, 169.5, 166.5, 171.0, 166.5, 170.0, 165.0, 170.0, 169.5, 163.5, 174.0, 168.0, 168.0, 169.5, 168.0, 169.5, 171.5]\n"
     ]
    }
   ],
   "source": [
    "k=1000 #number of bootstrap samples\n",
    "sample_length=len(s)\n",
    "m = list() #list for containing the medians of k samples\n",
    "for i in range(k):\n",
    "    s1=resample(s,n_samples=sample_length)\n",
    "    #print(s1)\n",
    "    m.append(np.median(s1))\n",
    "print(m)# list of medians"
   ]
  },
  {
   "cell_type": "code",
   "execution_count": 45,
   "metadata": {},
   "outputs": [
    {
     "data": {
      "image/png": "[encoded data removed]",
      "text/plain": [
       "<Figure size 432x288 with 1 Axes>"
      ]
     },
     "metadata": {
      "needs_background": "light"
     },
     "output_type": "display_data"
    }
   ],
   "source": [
    "plt.hist(m)\n",
    "plt.xlabel('medians')\n",
    "plt.show()"
   ]
  },
  {
   "cell_type": "code",
   "execution_count": 47,
   "metadata": {},
   "outputs": [
    {
     "name": "stdout",
     "output_type": "stream",
     "text": [
      "161.5 176.0\n"
     ]
    }
   ],
   "source": [
    "alpha = 0.95 # 95 % confidence interval\n",
    "lower = np.percentile(m,((1-alpha)/2)*100)\n",
    "upper = np.percentile(m,(alpha+((1-alpha)/2))*100)\n",
    "print(lower,upper)"
   ]
  },
  {
   "cell_type": "markdown",
   "metadata": {},
   "source": [
    "#### conclusion\n",
    "95% confidence interval of median 162.0 and 176.0"
   ]
  }
 ],
 "metadata": {
  "kernelspec": {
   "display_name": "Python 3",
   "language": "python",
   "name": "python3"
  },
  "language_info": {
   "codemirror_mode": {
    "name": "ipython",
    "version": 3
   },
   "file_extension": ".py",
   "mimetype": "text/x-python",
   "name": "python",
   "nbconvert_exporter": "python",
   "pygments_lexer": "ipython3",
   "version": "3.7.1"
  }
 },
 "nbformat": 4,
 "nbformat_minor": 2
}
